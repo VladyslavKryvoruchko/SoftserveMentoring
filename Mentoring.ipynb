{
 "cells": [
  {
   "cell_type": "code",
   "execution_count": 12,
   "id": "0e94be1b",
   "metadata": {},
   "outputs": [
    {
     "name": "stdout",
     "output_type": "stream",
     "text": [
      "Point(x=2, y=11, z=101)\n",
      "[(Point(x=2, y=11, z=101), 2), (Point(x=5, y=14, z=104), 1), (Point(x=4, y=13, z=103), 1), (Point(x=3, y=12, z=102), 1), (Point(x=1, y=10, z=100), 1)]\n"
     ]
    }
   ],
   "source": [
    "from abc import ABC, abstractmethod\n",
    "from collections import namedtuple\n",
    "from collections import deque\n",
    "from pyllist import dllist, dllistnode\n",
    "# https://pythonhosted.org/pyllist/\n",
    "\n",
    "Point = namedtuple('Point', ['x', 'y', 'z'], defaults=[0,0,0])\n",
    "class Storage(ABC):\n",
    "    \n",
    "    @staticmethod\n",
    "    def check_param(fn):\n",
    "        def wrap_func(*args, **kwargs):\n",
    "            if(len(args)>2):\n",
    "                (s,x1,x2,x3) = args\n",
    "                p = Point(x1,x2,x3)\n",
    "            elif(len(args)>1):\n",
    "                (s,p) = args\n",
    "            return fn(s,p)\n",
    "        return wrap_func\n",
    "    \n",
    "    @abstractmethod\n",
    "    def get(self, *args, **kwargs) -> Point:\n",
    "        pass    \n",
    "    \n",
    "    @abstractmethod\n",
    "    def put(self, *args, **kwargs):\n",
    "        pass\n",
    "\n",
    "\n",
    "class LRUCache(Storage):\n",
    "    \n",
    "    def __init__(self, size = 10):\n",
    "        self.storage = deque(maxlen=size)\n",
    "        \n",
    "    @Storage.check_param\n",
    "    def put(self, *args, **kwargs):\n",
    "        self.storage.append(args[0])\n",
    "        \n",
    "    @Storage.check_param\n",
    "    def get(self, *args, **kwargs):  \n",
    "        try:\n",
    "            elemInd = self.storage.index(args[0])\n",
    "        except ValueError:\n",
    "            print('{0} not found!'.format(args[0]))\n",
    "        else:\n",
    "            return self.storage[elemInd]\n",
    "\n",
    "    \n",
    "class LFUCache(Storage):\n",
    "    \n",
    "    def __init__(self):\n",
    "        self.storage = dict()\n",
    "    \n",
    "    @Storage.check_param\n",
    "    def put(self, *args, **kwargs):\n",
    "        self.storage[args[0]] = self.storage.setdefault(args[0],0)+1\n",
    "     \n",
    "    def get(self, n):\n",
    "        return sorted(self.storage.items(),key=lambda kv:(kv[1],kv[0]),reverse = True)[:n]\n",
    " \n",
    "\n",
    "\n",
    "    \n",
    "# Point = namedtuple('Point', ['x', 'y', 'z'], defaults=[-1,-1,-1])\n",
    "p1 = Point(13,13,13)\n",
    "p2 = Point(2,11,101) \n",
    "\n",
    "lru = LRUCache()\n",
    "lfu = LFUCache()\n",
    "# lru.put(p1)\n",
    "# lfu.put(p1)\n",
    "\n",
    "for i in range(5):    \n",
    "    lru.put(1+i, 10+i, 100+i)\n",
    "    lfu.put(1+i, 10+i, 100+i)\n",
    "    \n",
    "\n",
    "# lru.put(p1)\n",
    "# lfu.put(p1)\n",
    "lfu.put(p2)\n",
    "# lfu.put(p2)\n",
    "print(lru.get(p2))\n",
    "print(lfu.get(5))"
   ]
  },
  {
   "cell_type": "code",
   "execution_count": 35,
   "id": "f8c2f226",
   "metadata": {},
   "outputs": [
    {
     "data": {
      "text/plain": [
       "BD(x=13, y=5, z=96)"
      ]
     },
     "execution_count": 35,
     "metadata": {},
     "output_type": "execute_result"
    }
   ],
   "source": [
    "from collections import namedtuple\n",
    "from pyllist import dllist, dllistnode\n",
    "# https://pythonhosted.org/pyllist/\n",
    "\n",
    "Point = namedtuple('BD', ['x', 'y', 'z'], defaults=[0,0,0])\n",
    "strDict = dict()\n",
    "\n",
    "p1 = Point(13,5,96)\n",
    "p2 = Point(16,10,96)\n",
    "\n",
    "lst = dllist([p1,p2])\n",
    "\n",
    "strDict.update({1:lst.nodeat(0)})\n",
    "strDict.update({2:lst.nodeat(1)})\n",
    "\n",
    "strDict[1].value\n",
    "\n",
    "# print(lst)\n",
    "# print(strDict)"
   ]
  },
  {
   "cell_type": "code",
   "execution_count": null,
   "id": "4099abd1",
   "metadata": {},
   "outputs": [],
   "source": []
  }
 ],
 "metadata": {
  "kernelspec": {
   "display_name": "Python 3 (ipykernel)",
   "language": "python",
   "name": "python3"
  },
  "language_info": {
   "codemirror_mode": {
    "name": "ipython",
    "version": 3
   },
   "file_extension": ".py",
   "mimetype": "text/x-python",
   "name": "python",
   "nbconvert_exporter": "python",
   "pygments_lexer": "ipython3",
   "version": "3.10.4"
  }
 },
 "nbformat": 4,
 "nbformat_minor": 5
}
